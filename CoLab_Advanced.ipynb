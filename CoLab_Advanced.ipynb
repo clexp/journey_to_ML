{
  "nbformat": 4,
  "nbformat_minor": 0,
  "metadata": {
    "accelerator": "GPU",
    "colab": {
      "provenance": [],
      "gpuType": "T4",
      "include_colab_link": true
    },
    "kernelspec": {
      "display_name": "Python 3",
      "name": "python3"
    },
    "language_info": {
      "codemirror_mode": {
        "name": "ipython",
        "version": 3
      },
      "file_extension": ".py",
      "mimetype": "text/x-python",
      "name": "python",
      "nbconvert_exporter": "python",
      "pygments_lexer": "ipython3",
      "version": "3.7.6"
    }
  },
  "cells": [
    {
      "cell_type": "markdown",
      "metadata": {
        "id": "view-in-github",
        "colab_type": "text"
      },
      "source": [
        "<a href=\"https://colab.research.google.com/github/clexp/journey_to_ML/blob/main/CoLab_Advanced.ipynb\" target=\"_parent\"><img src=\"https://colab.research.google.com/assets/colab-badge.svg\" alt=\"Open In Colab\"/></a>"
      ]
    },
    {
      "cell_type": "markdown",
      "metadata": {
        "id": "GfquhHnqIhgB"
      },
      "source": [
        "Shield: [![CC BY-NC-SA 4.0][cc-by-nc-sa-shield]][cc-by-nc-sa]\n",
        "\n",
        "This work is licensed under a\n",
        "[Creative Commons Attribution-NonCommercial-ShareAlike 4.0 International\n",
        "License][cc-by-nc-sa].\n",
        "\n",
        "[![CC BY-NC-SA 4.0][cc-by-nc-sa-image]][cc-by-nc-sa]\n",
        "\n",
        "[cc-by-nc-sa]: http://creativecommons.org/licenses/by-nc-sa/4.0/\n",
        "[cc-by-nc-sa-image]: https://licensebuttons.net/l/by-nc-sa/4.0/88x31.png\n",
        "[cc-by-nc-sa-shield]:\n",
        "https://img.shields.io/badge/License-CC%20BY--NC--SA%204.0-lightgrey.svg"
      ]
    },
    {
      "cell_type": "markdown",
      "metadata": {
        "id": "lhxv4i0OGody"
      },
      "source": [
        "# Uploading Files"
      ]
    },
    {
      "cell_type": "markdown",
      "metadata": {
        "id": "xH3QK6bBw7un"
      },
      "source": [
        "When working in CoLab, we may want the user to be able to upload files (to upload data to parameterise a model for example, or provide some other form of input).  The following code will :\n",
        "1. Import the Google CoLab files library, which has some useful stuff we need.\n",
        "2. Remove all the files uploaded to this session first.  We do this in case there are any files already uploaded to this session, as if there are any duplicates, a new copy will be created, rather than the file being overwritten.  The `%` symbol indicates it is something known in Python as a *Magic Command* (the `!` symbol is also a sign of a Magic Command, but using a temporary subshell).  Don't worry too much about this at the moment - just know that you typically need to use these Magic Commands when you want to issue filesystem commands outside of your Python code.  Think of it as telling the iPython console to take a step outside and do something before coming back in.  The filesystem command we use here is `rm` - the Unix *remove* command (the servers are Unix-based).  `-r` means do this \"recursively\" - ie also remove everything in any folders you find, and any folders you find within those folders too etc.  `*` means \"everything\".  So this command basically says \"Step outside a moment, and delete all files from this directory and all sub-folders\".  IMPORTANT - DON'T GO WAVING AROUND COMMANDS LIKE `%rm -r *` OUTSIDE OF COLAB IF YOU'RE USING A UNIX-BASED OS (LINUX, MACOS) AND MAKE SURE YOU'RE NOT CONNECTED TO A LOCAL RUNTIME (YOU WON'T BE BY DEFAULT).  ASK DAN FOR HIS STORY ABOUT HIS MISHAP WHILST WRITING THIS VERY TRAINING...\n",
        "3. `files.upload()` brings up a file browser facility, using the library we imported above.  This allows the user to click a button and select files to upload.  The selected files are then stored in a variable called `upload_files`.\n",
        "4. Then we'll store a list of filenames uploaded in this session so we can refer to them later - this command uses something known as a *List Comprehension*.  Don't worry about it for now, but you'll learn about in the Python training, and it's a very cool feature of Python.\n",
        "5. Then we'll use another Magic Command `%ls` which calls the Unix *List* command (Unix's equivalent of `dir` for any old DOS users...).  This command just says \"give me a list of every file in the current directory\".\n",
        "\n",
        "If you try out this code, it'll ask you to upload a file or files (you can upload more than one if you like).  Upload anything you like - the code won't do anything with it, this is just to demonstrate the functionality."
      ]
    },
    {
      "cell_type": "code",
      "metadata": {
        "id": "w1kdo2NYCyXR"
      },
      "source": [
        "# Import files library\n",
        "from google.colab import files\n",
        "\n",
        "# Remove existing files in the session\n",
        "%rm -r *\n",
        "\n",
        "# Allow the user to upload files\n",
        "uploaded_files = files.upload()\n",
        "\n",
        "# Store a list of filenames in the session\n",
        "list_of_filenames = [filename for filename, data in uploaded_files.items()]\n",
        "\n",
        "# List the uploaded files\n",
        "print (\"Files in session : \")\n",
        "%ls"
      ],
      "execution_count": null,
      "outputs": []
    },
    {
      "cell_type": "markdown",
      "metadata": {
        "id": "vk8TRZvr3uMR"
      },
      "source": [
        "We can also grab a file directly from a GitHub repository.  Here we :\n",
        "\n",
        "1. Import a library called `pandas` (you'll learn all about pandas in the Python training, but for now, just know it's a library that allows us to easily work with data by storing it in a *table-like* format, known as a *DataFrame*)\n",
        "2. Store the url of the file we want in a variable called `github_url`. NOTE - you MUST use the RAW url for the csv file (the url that appears when you click the RAW button on the csv file in GitHub)\n",
        "3. Read in the .csv file we've grabbed from GitHub and store it in a pandas DataFrame.\n",
        "4. Print out the top and bottom of the DataFrame so we can see it's read in the file correctly.\n",
        "\n",
        "Note in this example, we don't actually grab a copy of the file and store it in our files - we just read in the file and store the data we read in a DataFrame.  But you could grab the file itself too if needed.\n",
        "\n",
        "If you CTRL + Left Click on the URL, it'll open a new tab that will show you the data being downloaded."
      ]
    },
    {
      "cell_type": "code",
      "metadata": {
        "id": "_J9eUh5S32I1"
      },
      "source": [
        "# Import pandas library\n",
        "import pandas as pd\n",
        "\n",
        "# Specify the url from which we want to grab our file\n",
        "github_url = 'https://raw.githubusercontent.com/MichaelAllen1966/thursday_coding_club_2020/master/data/iris.csv'\n",
        "\n",
        "# Read the file into a pandas DataFrame\n",
        "df_git = pd.read_csv(github_url)\n",
        "\n",
        "# Print the DataFrame\n",
        "print (df_git)"
      ],
      "execution_count": null,
      "outputs": []
    },
    {
      "cell_type": "markdown",
      "metadata": {
        "id": "sbJgFvWEG0hl"
      },
      "source": [
        "# Downloading Files"
      ]
    },
    {
      "cell_type": "markdown",
      "metadata": {
        "id": "ulfRyOBYHASR"
      },
      "source": [
        "Files in the session (those uploaded or created in your code) will be destroyed on Google's servers when the session is closed (or after 12 hours, whichever occurs first).  So it's important to get our files out of the session if we need them for anything.  For example, we often get our model code to save the results to file, so we'd want to grab that out.  We can download files locally or push them straight to a GitHub repository.\n",
        "\n",
        "To download files locally, we can use the `files.download(filename)` command.  Here, we just cycle through all the files we uploaded in the earlier code cell and download them again, but obviously when you come to do this for real, you'd download whichever files you need (which may well be ones generated by your code, rather than ones you've uploaded)."
      ]
    },
    {
      "cell_type": "code",
      "metadata": {
        "id": "prV960VYHdoK"
      },
      "source": [
        "for filename in list_of_filenames:\n",
        "  files.download(filename)"
      ],
      "execution_count": null,
      "outputs": []
    },
    {
      "cell_type": "markdown",
      "metadata": {
        "id": "PP_7Hg0lUSIJ"
      },
      "source": [
        "# UI Code Snippets"
      ]
    },
    {
      "cell_type": "markdown",
      "metadata": {
        "id": "zOSdL_KBUZ9K"
      },
      "source": [
        "Clicking on the <> icon on the left sidebar (towards the bottom) brings up some useful CoLab code snippets, particularly in relation to useful UI features.  Have an explore, but here are a few examples :"
      ]
    },
    {
      "cell_type": "markdown",
      "metadata": {
        "id": "HqIf04NpkQ2z"
      },
      "source": [
        "We can easily include sliders in our CoLab notebooks.  This means that the user is able to select a value using a slider, which can then be used in our model, for example.  Here's some example code showing how to do it.  This code sets up a slider to allow the user to specify Dan's approval rating, with a minimum of 0 and maximum of 100 selectable (surely we don't need anything below 99?).  The value is then stored in a variable called `dans_approval_rating`, which we then print.  You'll see as you move the slider, the value after `=` changes. **(IMPORTANT - YOU MUST RE-RUN THE CELL AFTER CHOOSING THE VALUE YOU WANT OR THE VARIABLE WILL NOT UPDATE)**"
      ]
    },
    {
      "cell_type": "code",
      "metadata": {
        "id": "KiIRVT1eUwCK"
      },
      "source": [
        "dan_approval_rating = 95 #@param {type: \"slider\", min: 0, max: 100}\n",
        "\n",
        "print (f\"Dan's Current Approval Rating is : {dan_approval_rating}\")"
      ],
      "execution_count": null,
      "outputs": []
    },
    {
      "cell_type": "markdown",
      "metadata": {
        "id": "gk7_qVkMl1ee"
      },
      "source": [
        "This one shows you how you can do the same sort of thing, but with a dropdown list.  Here's an example where a user is asked to select the best member of the PenCHORD team.  A piece of conditional logic then displays an appropriate message, depending on who is picked.  Again, you'll notice that the value after `=` changes as different values are picked. **(IMPORTANT - YOU MUST RE-RUN THE CELL AFTER CHOOSING THE VALUE YOU WANT OR THE VARIABLE WILL NOT UPDATE)**"
      ]
    },
    {
      "cell_type": "code",
      "metadata": {
        "id": "9-tps-g7WIYp"
      },
      "source": [
        "select_best_hsma_team_member = \"Dan\" #@param [\"Dan\", \"Sammi\", \"Amy\"]\n",
        "\n",
        "if select_best_hsma_team_member == \"Dan\":\n",
        "  print (\"Yes that's right, it's Dan\")\n",
        "else:\n",
        "  print (f\"No it's not {select_best_hsma_team_member}, it's Dan\")"
      ],
      "execution_count": null,
      "outputs": []
    },
    {
      "cell_type": "markdown",
      "metadata": {
        "id": "CpcfG_B2xXve"
      },
      "source": [
        "# GPU vs CPU"
      ]
    },
    {
      "cell_type": "markdown",
      "metadata": {
        "id": "si5vzC8mxcE6"
      },
      "source": [
        "Let's show off the power of using a GPU vs CPU for Neural Network tasks.  We'll test this using a demo, which I've taken (and very slightly modified) from https://colab.research.google.com/notebooks/gpu.ipynb#scrollTo=v3fE7KmKRDsH.\n",
        "\n",
        "First, before you run the following code, you need to change the runtime to use the GPU.  Click Edit -> Notebook Settings (or Runtime -> Change runtime type), and then select GPU.  Once you've done that, run the next cell, which checks that you have successfully connected to a GPU (it should display \"Found GPU\" - if it displays \"GPU device not found\", then you've not connected to a GPU)."
      ]
    },
    {
      "cell_type": "code",
      "metadata": {
        "id": "Zh_4GeYNL3sK",
        "colab": {
          "base_uri": "https://localhost:8080/"
        },
        "outputId": "4e8db465-0064-40d6-e807-38930275742a"
      },
      "source": [
        "%tensorflow_version 2.x\n",
        "import tensorflow as tf\n",
        "device_name = tf.test.gpu_device_name()\n",
        "if device_name != '/device:GPU:0':\n",
        "  raise SystemError('GPU device not found')\n",
        "print('Found GPU at: {}'.format(device_name))"
      ],
      "execution_count": null,
      "outputs": [
        {
          "output_type": "stream",
          "name": "stdout",
          "text": [
            "Colab only includes TensorFlow 2.x; %tensorflow_version has no effect.\n",
            "Found GPU at: /device:GPU:0\n"
          ]
        }
      ]
    },
    {
      "cell_type": "markdown",
      "metadata": {
        "id": "6HPprkPqPFTJ"
      },
      "source": [
        "Assuming that worked ok, we'll now run the demo code.  This demo generates a random image, and then constructs something known a convolutional neural network layer over that image (don't worry - you'll learn all about Neural Networks later in the training programme!  For now, just know that it's a very computationally expensive task that is well suited to a CUDA-enabled GPU).  The construction of the neural network layer is tested on both the GPU and the CPU, and timeit is used to compare the time taken to build the layer on each.  The operation is run 100 times on each, and the total time across the runs (in seconds) on the GPU vs the CPU is reported.  You should see there's quite a difference between the two... :"
      ]
    },
    {
      "cell_type": "code",
      "metadata": {
        "id": "Rio49KvOL87a",
        "colab": {
          "base_uri": "https://localhost:8080/"
        },
        "outputId": "3e6efbe5-a34e-493b-b486-1b9783b6d146"
      },
      "source": [
        "%tensorflow_version 2.x\n",
        "import tensorflow as tf\n",
        "import timeit\n",
        "\n",
        "device_name = tf.test.gpu_device_name()\n",
        "if device_name != '/device:GPU:0':\n",
        "  print(\n",
        "      '\\n\\nThis error most likely means that this notebook is not '\n",
        "      'configured to use a GPU.  Change this in Notebook Settings via the '\n",
        "      'command palette (cmd/ctrl-shift-P) or the Edit menu.\\n\\n')\n",
        "  raise SystemError('GPU device not found')\n",
        "\n",
        "def cpu():\n",
        "  with tf.device('/cpu:0'):\n",
        "    random_image_cpu = tf.random.normal((100, 100, 100, 3))\n",
        "    net_cpu = tf.keras.layers.Conv2D(32, 7)(random_image_cpu)\n",
        "    return tf.math.reduce_sum(net_cpu)\n",
        "\n",
        "def gpu():\n",
        "  with tf.device('/device:GPU:0'):\n",
        "    random_image_gpu = tf.random.normal((100, 100, 100, 3))\n",
        "    net_gpu = tf.keras.layers.Conv2D(32, 7)(random_image_gpu)\n",
        "    return tf.math.reduce_sum(net_gpu)\n",
        "\n",
        "# We run each op once to warm up; see: https://stackoverflow.com/a/45067900\n",
        "cpu()\n",
        "gpu()\n",
        "\n",
        "# Run the op several times.\n",
        "print('Time (s) to convolve 32x7x7x3 filter over random 100x100x100x3 images '\n",
        "      '(batch x height x width x channel). Sum of 100 runs.')\n",
        "print('CPU (s):')\n",
        "cpu_time = timeit.timeit('cpu()', number=100, setup=\"from __main__ import cpu\")\n",
        "print(cpu_time)\n",
        "print('GPU (s):')\n",
        "gpu_time = timeit.timeit('gpu()', number=100, setup=\"from __main__ import gpu\")\n",
        "print(gpu_time)\n",
        "print('GPU speedup over CPU: {}x'.format(int(cpu_time/gpu_time)))"
      ],
      "execution_count": null,
      "outputs": [
        {
          "output_type": "stream",
          "name": "stdout",
          "text": [
            "Colab only includes TensorFlow 2.x; %tensorflow_version has no effect.\n",
            "Time (s) to convolve 32x7x7x3 filter over random 100x100x100x3 images (batch x height x width x channel). Sum of 100 runs.\n",
            "CPU (s):\n",
            "42.968364201999975\n",
            "GPU (s):\n",
            "0.9326246669999705\n",
            "GPU speedup over CPU: 46x\n"
          ]
        }
      ]
    },
    {
      "cell_type": "markdown",
      "metadata": {
        "id": "_wFS_c2lRIB6"
      },
      "source": [
        "You can also use TPUs (Tensor Processing Units) in CoLab - you can see an example of their use here : https://colab.research.google.com/notebooks/tpu.ipynb#scrollTo=7Qv8rC4aVOFB"
      ]
    },
    {
      "cell_type": "markdown",
      "metadata": {
        "id": "JQvJlhm0ZwhW"
      },
      "source": [
        "# Other things to check out"
      ]
    },
    {
      "cell_type": "markdown",
      "metadata": {
        "id": "GXWt88f8Z4RH"
      },
      "source": [
        "1. You can change to a dark mode theme in Tools -> Settings\n",
        "2. Insert -> Scratch Code Cell allows you to insert a temporary cell that you can use to play around and test things.\n",
        "3. If you have a GPU with CUDA cores, or you're not using the GPU but have a good CPU setup locally, you can choose to connect to a local runtime.  There are instructions here : https://research.google.com/colaboratory/local-runtimes.html.  **IMPORTANT - DON'T DO THIS WITH THIS NOTEBOOK, AS IT CONTAINS A REMOVE EVERYTHING INSTRUCTION WHICH COULD CAUSE PROBLEMS (DELETE EVERYTHING ON YOUR COMPUTER) IF RUN ON YOUR COMPUTER LOCALLY AND USING LINUX / MACOS**\n",
        "4. By default, your notebook can only be accessed by those who have the link and have been specifically invited by you.  By clicking 'Share' in the top right you can change this, so that anyone with the link can access it.  You can also choose the level of access people have :\n",
        "- Viewer (can view but not comment or amend it)\n",
        "- Commenter (can view and add comments but not amend it)\n",
        "- Editor (can change it)\n",
        "\n",
        "Typically, I'd recommend allowing anyone with the link to access it, but at 'Viewer' level.  If you have Viewer access to a notebook, you can still play around with it, or even amend it, by either :\n",
        "a) taking a copy of the notebook and saving it in your own drive or GitHub repository (File -> Save a copy...)\n",
        "b) enter playground mode (a button should appear on the top right allowing you to do this when you're a viewer of a notebook).  This allows you to play around to your heart's content with a temporary copy of the notebook, that's destroyed once your session ends."
      ]
    }
  ]
}